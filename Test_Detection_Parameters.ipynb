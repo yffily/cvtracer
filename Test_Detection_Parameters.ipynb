{
 "cells": [
  {
   "cell_type": "code",
   "execution_count": 1,
   "metadata": {},
   "outputs": [],
   "source": [
    "import sys\n",
    "import os\n",
    "import numpy as np\n",
    "import matplotlib.pyplot as plt\n",
    "import cv2\n",
    "from cvt.TrAQ.Trial import Trial\n",
    "from cvt.TrAQ.CVTracer import CVTracer"
   ]
  },
  {
   "cell_type": "code",
   "execution_count": 2,
   "metadata": {},
   "outputs": [],
   "source": [
    "raw_video   = os.path.abspath(\"data/20190208_SF_n20_t1_2325/raw.mp4\")\n",
    "# raw_video   = os.path.abspath(\"data/20190208_SF_n2_t1_2206/raw.mp4\")\n",
    "fpath       = os.path.split(raw_video)[0]\n",
    "n           = 2\n",
    "t           = \"SF\"\n",
    "date        = \"20190208\" #YYYYMMDD\n",
    "fps         =  30\n",
    "tank_radius =  55.5 #cm\n",
    "t_start     =   0 #sec\n",
    "t_end       =  60 #sec"
   ]
  },
  {
   "cell_type": "code",
   "execution_count": 3,
   "metadata": {},
   "outputs": [
    {
     "name": "stdout",
     "output_type": "stream",
     "text": [
      "        Directory organized properly.\n",
      "\n",
      "        Trial loaded from C:\\Users\\16037\\Documents\\GitHub\\cvtracer\\data\\20190208_SF_n20_t1_2325\\trial.pik \n",
      "20 individuals in trial\n",
      "\n",
      "        Trial object saved as C:\\Users\\16037\\Documents\\GitHub\\cvtracer\\data\\20190208_SF_n20_t1_2325\\trial.pik \n",
      "        Directory organized properly.\n"
     ]
    },
    {
     "ename": "ValueError",
     "evalue": "invalid literal for int() with base 10: 'C:\\\\U'",
     "output_type": "error",
     "traceback": [
      "\u001b[0;31m---------------------------------------------------------------------------\u001b[0m",
      "\u001b[0;31mValueError\u001b[0m                                Traceback (most recent call last)",
      "\u001b[0;32m<ipython-input-3-5f09a0aa82ca>\u001b[0m in \u001b[0;36m<module>\u001b[0;34m()\u001b[0m\n\u001b[1;32m     10\u001b[0m \u001b[0;34m\u001b[0m\u001b[0m\n\u001b[1;32m     11\u001b[0m \u001b[0mraw_video\u001b[0m \u001b[0;34m=\u001b[0m \u001b[0mtrial\u001b[0m\u001b[0;34m.\u001b[0m\u001b[0mnew_fname\u001b[0m\u001b[0;34m(\u001b[0m\u001b[0;34m\"raw.mp4\"\u001b[0m\u001b[0;34m)\u001b[0m\u001b[0;34m\u001b[0m\u001b[0;34m\u001b[0m\u001b[0m\n\u001b[0;32m---> 12\u001b[0;31m \u001b[0mtrial\u001b[0m     \u001b[0;34m=\u001b[0m \u001b[0mTrial\u001b[0m\u001b[0;34m(\u001b[0m\u001b[0mraw_video\u001b[0m\u001b[0;34m)\u001b[0m\u001b[0;34m\u001b[0m\u001b[0;34m\u001b[0m\u001b[0m\n\u001b[0m",
      "\u001b[0;32m/media/data/work/fau/research/cavefish_trilab/astyanax_larval_schooling/cvtracer/cvt/TrAQ/Trial.py\u001b[0m in \u001b[0;36m__init__\u001b[0;34m(self, fvideo, n, t, date, fps, tank_radius, t_start, t_end)\u001b[0m\n\u001b[1;32m     26\u001b[0m \u001b[0;34m\u001b[0m\u001b[0m\n\u001b[1;32m     27\u001b[0m         \u001b[0;32mif\u001b[0m \u001b[0mfvideo\u001b[0m \u001b[0;34m!=\u001b[0m \u001b[0;32mNone\u001b[0m\u001b[0;34m:\u001b[0m\u001b[0;34m\u001b[0m\u001b[0;34m\u001b[0m\u001b[0m\n\u001b[0;32m---> 28\u001b[0;31m             \u001b[0mself\u001b[0m\u001b[0;34m.\u001b[0m\u001b[0msetup\u001b[0m\u001b[0;34m(\u001b[0m\u001b[0mfvideo\u001b[0m\u001b[0;34m,\u001b[0m \u001b[0mn\u001b[0m\u001b[0;34m,\u001b[0m \u001b[0mt\u001b[0m\u001b[0;34m,\u001b[0m \u001b[0mdate\u001b[0m\u001b[0;34m,\u001b[0m \u001b[0mfps\u001b[0m\u001b[0;34m,\u001b[0m \u001b[0mtank_radius\u001b[0m\u001b[0;34m,\u001b[0m \u001b[0mt_start\u001b[0m\u001b[0;34m,\u001b[0m \u001b[0mt_end\u001b[0m\u001b[0;34m)\u001b[0m\u001b[0;34m\u001b[0m\u001b[0;34m\u001b[0m\u001b[0m\n\u001b[0m\u001b[1;32m     29\u001b[0m \u001b[0;34m\u001b[0m\u001b[0m\n\u001b[1;32m     30\u001b[0m     def setup(self, fvideo = None, n = 0, t = None, date = None, \n",
      "\u001b[0;32m/media/data/work/fau/research/cavefish_trilab/astyanax_larval_schooling/cvtracer/cvt/TrAQ/Trial.py\u001b[0m in \u001b[0;36msetup\u001b[0;34m(self, fvideo, n, t, date, fps, tank_radius, t_start, t_end)\u001b[0m\n\u001b[1;32m     38\u001b[0m             \u001b[0mprint\u001b[0m\u001b[0;34m(\u001b[0m\u001b[0;34m\"        Directory organized properly.\"\u001b[0m\u001b[0;34m)\u001b[0m\u001b[0;34m\u001b[0m\u001b[0;34m\u001b[0m\u001b[0m\n\u001b[1;32m     39\u001b[0m \u001b[0;34m\u001b[0m\u001b[0m\n\u001b[0;32m---> 40\u001b[0;31m         \u001b[0mself\u001b[0m\u001b[0;34m.\u001b[0m\u001b[0mparse_fname\u001b[0m\u001b[0;34m(\u001b[0m\u001b[0mdate\u001b[0m\u001b[0;34m)\u001b[0m\u001b[0;34m\u001b[0m\u001b[0;34m\u001b[0m\u001b[0m\n\u001b[0m\u001b[1;32m     41\u001b[0m         \u001b[0;32mif\u001b[0m \u001b[0;32mnot\u001b[0m \u001b[0mself\u001b[0m\u001b[0;34m.\u001b[0m\u001b[0mload\u001b[0m\u001b[0;34m(\u001b[0m\u001b[0;34m)\u001b[0m\u001b[0;34m:\u001b[0m\u001b[0;34m\u001b[0m\u001b[0;34m\u001b[0m\u001b[0m\n\u001b[1;32m     42\u001b[0m             \u001b[0msys\u001b[0m\u001b[0;34m.\u001b[0m\u001b[0mstdout\u001b[0m\u001b[0;34m.\u001b[0m\u001b[0mwrite\u001b[0m\u001b[0;34m(\u001b[0m\u001b[0;34m\"\\n        Generating new Trial object.\\n\"\u001b[0m\u001b[0;34m)\u001b[0m\u001b[0;34m\u001b[0m\u001b[0;34m\u001b[0m\u001b[0m\n",
      "\u001b[0;32m/media/data/work/fau/research/cavefish_trilab/astyanax_larval_schooling/cvtracer/cvt/TrAQ/Trial.py\u001b[0m in \u001b[0;36mparse_fname\u001b[0;34m(self, date)\u001b[0m\n\u001b[1;32m     63\u001b[0m             \u001b[0mfdir\u001b[0m \u001b[0;34m=\u001b[0m \u001b[0mself\u001b[0m\u001b[0;34m.\u001b[0m\u001b[0mfpath\u001b[0m\u001b[0;34m.\u001b[0m\u001b[0msplit\u001b[0m\u001b[0;34m(\u001b[0m\u001b[0mos\u001b[0m\u001b[0;34m.\u001b[0m\u001b[0msep\u001b[0m\u001b[0;34m)\u001b[0m\u001b[0;34m[\u001b[0m\u001b[0;34m-\u001b[0m\u001b[0;36m1\u001b[0m\u001b[0;34m]\u001b[0m\u001b[0;34m\u001b[0m\u001b[0;34m\u001b[0m\u001b[0m\n\u001b[1;32m     64\u001b[0m             \u001b[0;31m#fdir  = os.path.split(self.fvideo_raw.split('/')[-2]\u001b[0m\u001b[0;34m\u001b[0m\u001b[0;34m\u001b[0m\u001b[0;34m\u001b[0m\u001b[0m\n\u001b[0;32m---> 65\u001b[0;31m             \u001b[0myear\u001b[0m  \u001b[0;34m=\u001b[0m \u001b[0mint\u001b[0m\u001b[0;34m(\u001b[0m\u001b[0mfdir\u001b[0m\u001b[0;34m[\u001b[0m \u001b[0;34m:\u001b[0m\u001b[0;36m4\u001b[0m\u001b[0;34m]\u001b[0m\u001b[0;34m)\u001b[0m\u001b[0;34m\u001b[0m\u001b[0;34m\u001b[0m\u001b[0m\n\u001b[0m\u001b[1;32m     66\u001b[0m             \u001b[0mmonth\u001b[0m \u001b[0;34m=\u001b[0m \u001b[0mint\u001b[0m\u001b[0;34m(\u001b[0m\u001b[0mfdir\u001b[0m\u001b[0;34m[\u001b[0m\u001b[0;36m4\u001b[0m\u001b[0;34m:\u001b[0m\u001b[0;36m6\u001b[0m\u001b[0;34m]\u001b[0m\u001b[0;34m)\u001b[0m\u001b[0;34m\u001b[0m\u001b[0;34m\u001b[0m\u001b[0m\n\u001b[1;32m     67\u001b[0m             \u001b[0mday\u001b[0m   \u001b[0;34m=\u001b[0m \u001b[0mint\u001b[0m\u001b[0;34m(\u001b[0m\u001b[0mfdir\u001b[0m\u001b[0;34m[\u001b[0m\u001b[0;36m6\u001b[0m\u001b[0;34m:\u001b[0m\u001b[0;36m8\u001b[0m\u001b[0;34m]\u001b[0m\u001b[0;34m)\u001b[0m\u001b[0;34m\u001b[0m\u001b[0;34m\u001b[0m\u001b[0m\n",
      "\u001b[0;31mValueError\u001b[0m: invalid literal for int() with base 10: 'C:\\\\U'"
     ]
    }
   ],
   "source": [
    "trial = Trial(raw_video, \n",
    "              n = n, \n",
    "              t = t, \n",
    "              date = date,\n",
    "              fps = fps, \n",
    "              tank_radius = tank_radius,\n",
    "              t_start = t_start, \n",
    "              t_end = t_end )\n",
    "trial.save()\n",
    "\n",
    "raw_video = trial.new_fname(\"raw.mp4\")\n",
    "trial     = Trial(raw_video)"
   ]
  },
  {
   "cell_type": "code",
   "execution_count": null,
   "metadata": {},
   "outputs": [],
   "source": [
    "''' Set tracking parameters. '''\n",
    "\n",
    "n_pixel_blur  =  3 # square-root of n-pixels for threshold blurring\n",
    "block_size    = 15 # contour block size\n",
    "thresh_offset = 13 # threshold offset for contour-finding\n",
    "min_area =  20 # minimum area for threhold detection\n",
    "max_area = 500 # maximum area for threhold detection\n",
    "online_viewer = True\n",
    "view_scale = 0.9  # scale size online viewer\n",
    "RGB = True # track in color, false does greyscale\n",
    "t_start =  0 # enter start time in seconds\n",
    "t_end   = 60 # enter   end time in seconds\n",
    "\n",
    "#--------------------------------------------------------------------\n",
    "# Parameter testing area. Overrides the default values entered above.\n",
    "# n_pixel_blur =  \n",
    "# block_size = 15\n",
    "thresh_offset = 12\n",
    "# min_area = \n",
    "# max_area = \n",
    "frame_number = 100 # Which frame to test those parameters on.\n",
    "#--------------------------------------------------------------------\n",
    "\n",
    "frame_start = int(t_start * fps)\n",
    "frame_end   = int(t_end   * fps)\n",
    "cvt         = CVTracer( trial, frame_start = frame_start, frame_end = frame_end, \n",
    "                        n_pixel_blur = n_pixel_blur, block_size = block_size, \n",
    "                        threshold_offset = int(thresh_offset), \n",
    "                        min_area = min_area, max_area = max_area, len_trail = 3, \n",
    "                        RGB = RGB, online = online_viewer, view_scale = view_scale, \n",
    "                        GPU = False ) \n",
    "\n",
    "cvt.set_frame(frame_number)\n",
    "cvt.get_frame()\n",
    "cvt.mask_tank()       \n",
    "cvt.detect_contours()\n",
    "# cvt.analyze_contours()\n",
    "\n",
    "cvt.draw()\n",
    "cvt.draw_contours()\n",
    "cvt.show_current_frame()"
   ]
  },
  {
   "cell_type": "code",
   "execution_count": null,
   "metadata": {},
   "outputs": [],
   "source": []
  }
 ],
 "metadata": {
  "kernelspec": {
   "display_name": "Python 3",
   "language": "python",
   "name": "python3"
  },
  "language_info": {
   "codemirror_mode": {
    "name": "ipython",
    "version": 3
   },
   "file_extension": ".py",
   "mimetype": "text/x-python",
   "name": "python",
   "nbconvert_exporter": "python",
   "pygments_lexer": "ipython3",
   "version": "3.6.9"
  }
 },
 "nbformat": 4,
 "nbformat_minor": 2
}
