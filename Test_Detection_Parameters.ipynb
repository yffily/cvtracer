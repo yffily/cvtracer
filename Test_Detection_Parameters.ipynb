{
 "cells": [
  {
   "cell_type": "code",
   "execution_count": 1,
   "metadata": {},
   "outputs": [],
   "source": [
    "import sys\n",
    "import os\n",
    "import numpy as np\n",
    "import matplotlib.pyplot as plt\n",
    "import cv2\n",
    "from cvt.TrAQ.Trial import Trial\n",
    "from cvt.TrAQ.CVTracer import CVTracer"
   ]
  },
  {
   "cell_type": "code",
   "execution_count": 2,
   "metadata": {},
   "outputs": [],
   "source": [
    "raw_video   = os.path.abspath(\"data/20190208_SF_n20_t1_2325/raw.mp4\")\n",
    "# raw_video   = os.path.abspath(\"data/20190208_SF_n2_t1_2206/raw.mp4\")\n",
    "fpath       = os.path.split(raw_video)[0]\n",
    "n           = 2\n",
    "t           = \"SF\"\n",
    "date        = \"20190208\" #YYYYMMDD\n",
    "fps         =  30\n",
    "tank_radius =  55.5 #cm\n",
    "t_start     =   0 #sec\n",
    "t_end       =  60 #sec"
   ]
  },
  {
   "cell_type": "code",
   "execution_count": 3,
   "metadata": {},
   "outputs": [
    {
     "name": "stdout",
     "output_type": "stream",
     "text": [
      "        Directory organized properly.\n",
      "\n",
      "        Trial loaded from /media/data/work/fau/research/cavefish_trilab/cvtracer/data/20190208_SF_n20_t1_2325/trial.pik \n",
      "2 individuals in trial\n",
      "\n",
      "        Trial object saved as /media/data/work/fau/research/cavefish_trilab/cvtracer/data/20190208_SF_n20_t1_2325/trial.pik \n",
      "        Directory organized properly.\n",
      "\n",
      "        Trial loaded from /media/data/work/fau/research/cavefish_trilab/cvtracer/data/20190208_SF_n20_t1_2325/trial.pik \n",
      "2 individuals in trial\n"
     ]
    }
   ],
   "source": [
    "trial = Trial(raw_video, \n",
    "              n = n, \n",
    "              t = t, \n",
    "              date = date,\n",
    "              fps = fps, \n",
    "              tank_radius = tank_radius,\n",
    "              t_start = t_start, \n",
    "              t_end = t_end )\n",
    "trial.save()\n",
    "\n",
    "raw_video = trial.new_fname(\"raw.mp4\")\n",
    "trial     = Trial(raw_video)"
   ]
  },
  {
   "cell_type": "code",
   "execution_count": 4,
   "metadata": {},
   "outputs": [
    {
     "name": "stdout",
     "output_type": "stream",
     "text": [
      "12\n",
      "Using Gaussian Adaptive Threshold\n",
      "Using Inverted Binary Threshold with [0, 100].\n",
      " Group of 2\n"
     ]
    },
    {
     "data": {
      "text/plain": [
       "1"
      ]
     },
     "execution_count": 4,
     "metadata": {},
     "output_type": "execute_result"
    }
   ],
   "source": [
    "''' Set tracking parameters. '''\n",
    "\n",
    "n_pixel_blur  =  3 # square-root of n-pixels for threshold blurring\n",
    "block_size    = 15 # contour block size\n",
    "thresh_offset = 13 # threshold offset for contour-finding\n",
    "min_area =  20 # minimum area for threhold detection\n",
    "max_area = 500 # maximum area for threhold detection\n",
    "online_viewer = True\n",
    "view_scale = 0.9  # scale size online viewer\n",
    "RGB = True # track in color, false does greyscale\n",
    "t_start =  0 # enter start time in seconds\n",
    "t_end   = 60 # enter   end time in seconds\n",
    "\n",
    "#--------------------------------------------------------------------\n",
    "# Parameter testing area. Overrides the default values entered above.\n",
    "# n_pixel_blur =  \n",
    "# block_size = 15\n",
    "thresh_offset = 12\n",
    "# min_area = \n",
    "# max_area = \n",
    "frame_number = 100 # Which frame to test those parameters on.\n",
    "#--------------------------------------------------------------------\n",
    "\n",
    "frame_start = int(t_start * fps)\n",
    "frame_end   = int(t_end   * fps)\n",
    "cvt         = CVTracer( trial, frame_start = frame_start, frame_end = frame_end, \n",
    "                        n_pixel_blur = n_pixel_blur, block_size = block_size, \n",
    "                        threshold_offset = int(thresh_offset), \n",
    "                        min_area = min_area, max_area = max_area, len_trail = 3, \n",
    "                        RGB = RGB, online = online_viewer, view_scale = view_scale, \n",
    "                        GPU = False ) \n",
    "\n",
    "cvt.set_frame(frame_number)\n",
    "cvt.get_frame()\n",
    "cvt.mask_tank()       \n",
    "cvt.detect_contours()\n",
    "# cvt.analyze_contours()\n",
    "\n",
    "cvt.draw()\n",
    "cvt.draw_contours()\n",
    "cvt.show_current_frame()"
   ]
  },
  {
   "cell_type": "code",
   "execution_count": null,
   "metadata": {},
   "outputs": [],
   "source": []
  }
 ],
 "metadata": {
  "kernelspec": {
   "display_name": "Python 3",
   "language": "python",
   "name": "python3"
  },
  "language_info": {
   "codemirror_mode": {
    "name": "ipython",
    "version": 3
   },
   "file_extension": ".py",
   "mimetype": "text/x-python",
   "name": "python",
   "nbconvert_exporter": "python",
   "pygments_lexer": "ipython3",
   "version": "3.6.9"
  }
 },
 "nbformat": 4,
 "nbformat_minor": 2
}
